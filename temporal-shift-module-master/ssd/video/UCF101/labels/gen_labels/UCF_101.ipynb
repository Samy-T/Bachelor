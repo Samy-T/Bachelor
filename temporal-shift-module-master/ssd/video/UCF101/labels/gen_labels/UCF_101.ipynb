{
  "nbformat": 4,
  "nbformat_minor": 0,
  "metadata": {
    "colab": {
      "name": "UCF_101.ipynb",
      "provenance": [],
      "collapsed_sections": []
    },
    "kernelspec": {
      "name": "python3",
      "display_name": "Python 3"
    },
    "language_info": {
      "name": "python"
    },
    "accelerator": "TPU"
  },
  "cells": [
    {
      "cell_type": "code",
      "metadata": {
        "id": "9Qc183zrKHuH"
      },
      "source": [
        "!wget https://downloads.rclone.org/v1.53.3/rclone-v1.53.3-linux-amd64.deb\n",
        "!apt install ./rclone-v1.53.3-linux-amd64.deb"
      ],
      "execution_count": null,
      "outputs": []
    },
    {
      "cell_type": "code",
      "metadata": {
        "id": "PedgGRmIKXJJ"
      },
      "source": [
        "!rclone config"
      ],
      "execution_count": null,
      "outputs": []
    },
    {
      "cell_type": "code",
      "metadata": {
        "colab": {
          "base_uri": "https://localhost:8080/"
        },
        "id": "j8J5Vcn8Km8U",
        "outputId": "6881e27e-e0ba-441f-a918-0669cd521b66"
      },
      "source": [
        "!sudo mkdir /content/onedrive/\n",
        "!nohup rclone --vfs-cache-mode writes mount onedrive: /content/onedrive &"
      ],
      "execution_count": 86,
      "outputs": [
        {
          "output_type": "stream",
          "text": [
            "nohup: appending output to 'nohup.out'\n"
          ],
          "name": "stdout"
        }
      ]
    },
    {
      "cell_type": "code",
      "metadata": {
        "id": "oEbNB5MhW_uA"
      },
      "source": [
        "cd .."
      ],
      "execution_count": null,
      "outputs": []
    },
    {
      "cell_type": "code",
      "metadata": {
        "id": "g39OX9vMKtLB"
      },
      "source": [
        "!unzip \"/content/onedrive/AI/Datasets/UCF-101/ucf101_jpegs_256.zip\" -d \"/content/UCF101\""
      ],
      "execution_count": null,
      "outputs": []
    },
    {
      "cell_type": "code",
      "metadata": {
        "id": "CYfOkwzWXRCX"
      },
      "source": [
        "!pip install mmcv"
      ],
      "execution_count": null,
      "outputs": []
    },
    {
      "cell_type": "code",
      "metadata": {
        "id": "uMx0FljGW08c"
      },
      "source": [
        "cd /content/UCF101"
      ],
      "execution_count": null,
      "outputs": []
    },
    {
      "cell_type": "code",
      "metadata": {
        "id": "5ah4p3vcQtiv"
      },
      "source": [
        "!python build_file_list.py ucf101 jpegs_256 --level 1 --format rawframes --shuffle"
      ],
      "execution_count": null,
      "outputs": []
    },
    {
      "cell_type": "code",
      "metadata": {
        "id": "FkHN39spgaHF"
      },
      "source": [
        "!find -type d -name 'v_HandStandWalking_g08_c01'"
      ],
      "execution_count": 112,
      "outputs": []
    }
  ]
}